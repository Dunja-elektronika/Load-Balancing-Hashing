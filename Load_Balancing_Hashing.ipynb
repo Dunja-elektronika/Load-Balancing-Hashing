{
 "cells": [
  {
   "cell_type": "code",
   "execution_count": null,
   "metadata": {},
   "outputs": [],
   "source": [
    "# https://jeremykun.com/2015/12/28/load-balancing-and-the-power-of-hashing/\n",
    "# various type\n",
    "# https://softwareengineering.stackexchange.com/questions/49550/which-hashing-algorithm-is-best-for-uniqueness-and-speed"
   ]
  },
  {
   "cell_type": "code",
   "execution_count": 43,
   "metadata": {},
   "outputs": [],
   "source": [
    "class hash_antulov():\n",
    "    def __init__(self, arr_size = 23):\n",
    "        self.size = arr_size\n",
    "        # the arreys could be alocated at moment one of them is needed\n",
    "        self.bucket_arr = [None] * self.size\n",
    "        self.bucket_arr2 = [None] * self.size   \n",
    "        self.load1 = 0\n",
    "        self.load2 = 0\n",
    "        self.base_e =[1096.633,403.428,148.413, 54.598, 20.085,7.389, 2.718, 1.0 ]\n",
    "        if self.size < 8: print('Size should be grater then ',self.size)     \n",
    "           \n",
    "    def get_hash(self, key):\n",
    "        sum = 0\n",
    "        for i,char in enumerate(str(key)):\n",
    "            sum += ord(char) * self.base_e[i%8]\n",
    "        hash_key = sum * sum    \n",
    "        # The hash functions could be different, whichever is more appropriate.\n",
    "        index1 = (int(sum + hash_key/100))%self.size\n",
    "        index2 = (int(sum + 1000*hash_key))%self.size\n",
    "        return index1,index2\n",
    "            \n",
    "    def add(self, new_key, new_value):\n",
    "        index, index2 = self.get_hash(new_key)\n",
    "        new_key_value_pair = [new_key, new_value, index, index2,0]\n",
    "        # first check for update distinguished from double hash but could be used double hash\n",
    "        if self.bucket_arr[index] is not None:\n",
    "            if self.bucket_arr[index][0][0]== new_key:       \n",
    "                self.bucket_arr[index][0][1] = new_value              \n",
    "                return True\n",
    "      # chaining is used for clarity and to distinguished from double hash but could be used double hash       \n",
    "        if self.bucket_arr2[index2] is not None:  \n",
    "            for set_of_values in self.bucket_arr2[index2]:\n",
    "                if set_of_values[0] == new_key: \n",
    "                    set_of_values[1]= new_value\n",
    "                    return True\n",
    "         #   nothing was for updated, must will be inserted  \n",
    "        if self.bucket_arr[index] is None:        \n",
    "            self.bucket_arr[index] = [new_key_value_pair]  \n",
    "            self.load1 += 1\n",
    "            return True                   \n",
    "        elif self.bucket_arr2[index2] is None:\n",
    "            self.bucket_arr2[index2] = [new_key_value_pair]\n",
    "            self.load2 += 1\n",
    "            return True\n",
    "        else:   # chaining is used to distigushed from double hash but could be used double hash\n",
    "            new_key_value_pair[4] = len(self.bucket_arr2[index2])\n",
    "            self.bucket_arr2[index2].append(new_key_value_pair) \n",
    "            self.load2 += 1\n",
    "            return True\n",
    "        return False\n",
    "   \n",
    "    def delete(self, key):\n",
    "        index, index2 = self.get_hash(key)     \n",
    "        if self.bucket_arr[index] is not None:\n",
    "            if self.bucket_arr[index][0][0] == key:\n",
    "                self.bucket_arr[index]= None\n",
    "                self.load1 -= 1\n",
    "                return True  \n",
    "        if self.bucket_arr2[index2] is not None:\n",
    "            for indey in range (0, len(self.bucket_arr2[index2])):\n",
    "                if self.bucket_arr2[index2][indey][0] == key:\n",
    "                    self.bucket_arr2[index2].pop(indey)\n",
    "                    self.load2 -= 1\n",
    "                    return True       \n",
    "        return False    \n",
    "            \n",
    "    def get_value(self, key):\n",
    "        index, index2 = self.get_hash(key)          \n",
    "        if self.bucket_arr[index] is not None or self.bucket_arr2[index2] is not None:\n",
    "            if self.bucket_arr[index][0][0] == key:\n",
    "                return self.bucket_arr[index][0][1]\n",
    "            for set_of_values in self.bucket_arr2[index2]:\n",
    "                if set_of_values[0] == key: \n",
    "                    return set_of_values[1]\n",
    "        else:  #self.bucket_arr[index] is None and self.bucket_arr2[index2] is None:\n",
    "            return None   \n",
    "     \n",
    "    def get_loads(self):\n",
    "        if self.load2 == 0:\n",
    "            print('Load ratio not defined  load1={0} / load2={1}'.format(self.load1,self.load2))\n",
    "        else:  # load ratio is the double ratio of load factors load1=n1/m1 over load2=n2/m2, where m1=m2  \n",
    "            load_ratio = self.load1/self.load2      # load1=n1/size over load2=n2/size, load_ratio=n1/n2 \n",
    "            sum_load_ratio =(self.load1+self.load2/(self.size+self.size))\n",
    "            print('Load ratio load1={0} / load2={1}'.format(self.load1,self.load2))\n",
    "            print('Load ratio ={0} ukupni load={1}'.format(load_ratio,sum_load_ratio ))       \n",
    "        print('')\n",
    "        print('load1={}  load2={} load1/size={:.2f}% load1/size={:.2f}%'\n",
    "              .format(self.load1, self.load2, 100*self.load1/self.size, self.load2/self.size*100))\n",
    "        \n",
    "    def pr_index(self,new_key):\n",
    "        index, index2 = self.get_hash(new_key) \n",
    "        print(' {} index  {}  {}   load1 = {} load2 = {} '\n",
    "              .format(new_key, index, index2, self.load1, self.load2))\n",
    "\n",
    "    def print12(self):\n",
    "        print('----IMENIK TEST ----')\n",
    "        Binstr0='None'\n",
    "        Binstr1='None'\n",
    "        for index, arr_bins in enumerate(zip(self.bucket_arr, self.bucket_arr2)):\n",
    "            bins0,bins1='None', 'None'            \n",
    "            if arr_bins[0] != None: bins0 = str(arr_bins[0])\n",
    "            if arr_bins[1] != None: bins1 = str(arr_bins[1])\n",
    "            print(f\"{str(index):<3}{bins0:<51}{bins1}\") \n",
    "            \n",
    "#     def print22(self):  \n",
    "#         print('----IMENIK TEST ----')\n",
    "#         for index, bucket in enumerate(zip(self.bucket_arr, self.bucket_arr2)):\n",
    "#             print(index, \" \",bucket[0],\"  \\t\"*3,bucket[1]) \n",
    "            \n",
    "    def print(self):\n",
    "        print('----IMENIK TEST ----')\n",
    "        for index, bucket in enumerate(self.bucket_arr): print(index, bucket) \n",
    "                \n",
    "    def print2(self):  \n",
    "        print('----IMENIK TEST ----')\n",
    "        for index, bucket in enumerate(self.bucket_arr2): print(index, bucket)  \n",
    "        "
   ]
  },
  {
   "cell_type": "code",
   "execution_count": 44,
   "metadata": {},
   "outputs": [],
   "source": [
    "h=hash_antulov()"
   ]
  },
  {
   "cell_type": "code",
   "execution_count": 45,
   "metadata": {},
   "outputs": [
    {
     "name": "stdout",
     "output_type": "stream",
     "text": [
      " Ema2 index  20  17   load1 = 1 load2 = 0 \n",
      " Bruno index  9  5   load1 = 2 load2 = 0 \n",
      "Load ratio not defined  load1=2 / load2=0\n",
      "\n",
      "load1=2  load2=0 load1/size=8.70% load1/size=0.00%\n",
      "Bruno  Antulov-Fantulin\n",
      "----IMENIK TEST ----\n",
      "0  None                                               None\n",
      "1  None                                               None\n",
      "2  None                                               None\n",
      "3  None                                               None\n",
      "4  None                                               None\n",
      "5  None                                               None\n",
      "6  None                                               None\n",
      "7  None                                               None\n",
      "8  None                                               None\n",
      "9  [['Bruno', ' Antulov-Fantulin', 9, 5, 0]]          None\n",
      "10 None                                               None\n",
      "11 None                                               None\n",
      "12 None                                               None\n",
      "13 None                                               None\n",
      "14 None                                               None\n",
      "15 None                                               None\n",
      "16 None                                               None\n",
      "17 None                                               None\n",
      "18 None                                               None\n",
      "19 None                                               None\n",
      "20 [['Ema2', 'drugi', 20, 17, 0]]                     None\n",
      "21 None                                               None\n",
      "22 None                                               None\n"
     ]
    }
   ],
   "source": [
    "h.add('Ema2', 'drugi')\n",
    "h.pr_index('Ema2')\n",
    "h.add('Bruno', ' Antulov-Fantulin')\n",
    "h.pr_index('Bruno')\n",
    "h.get_loads()\n",
    "print('Bruno',h.get_value('Bruno'))\n",
    "h.print12()"
   ]
  },
  {
   "cell_type": "code",
   "execution_count": 46,
   "metadata": {},
   "outputs": [
    {
     "name": "stdout",
     "output_type": "stream",
     "text": [
      " Bruno Antu index  16  8   load1 = 2 load2 = 0 \n"
     ]
    }
   ],
   "source": [
    "h.pr_index('Bruno Antu')"
   ]
  },
  {
   "cell_type": "code",
   "execution_count": null,
   "metadata": {},
   "outputs": [],
   "source": []
  },
  {
   "cell_type": "code",
   "execution_count": null,
   "metadata": {},
   "outputs": [],
   "source": []
  },
  {
   "cell_type": "code",
   "execution_count": 47,
   "metadata": {},
   "outputs": [
    {
     "name": "stdout",
     "output_type": "stream",
     "text": [
      "----IMENIK TEST ----\n",
      "0  [['Boban', '222-8888', 0, 0, 0]]                   None\n",
      "1  None                                               None\n",
      "2  None                                               None\n",
      "3  None                                               None\n",
      "4  [['Darko', '098-967-1688', 4, 21, 0]]              None\n",
      "5  None                                               None\n",
      "6  None                                               None\n",
      "7  [['Anita', '777-8888 update', 7, 5, 0]]            None\n",
      "8  None                                               None\n",
      "9  [['Bruno', ' Antulov-Fantulin', 9, 5, 0]]          None\n",
      "10 None                                               None\n",
      "11 None                                               None\n",
      "12 [['Ana Marija', '852-655prvi1', 12, 5, 0]]         None\n",
      "13 [['Ema', 'nnn-yyy-update', 13, 8, 0]]              None\n",
      "14 None                                               None\n",
      "15 [['Ankica', '632-4123', 15, 16, 0]]                None\n",
      "16 None                                               None\n",
      "17 [['Bruno Antulov Fantulin', 'Antulov ', 17, 13, 0]]None\n",
      "18 None                                               None\n",
      "19 None                                               None\n",
      "20 [['Ema2', 'drugi', 20, 17, 0]]                     None\n",
      "21 [['Mirko', '567-2188', 21, 19, 0]]                 None\n",
      "22 [['Klara', '333-update', 22, 19, 0]]               None\n"
     ]
    }
   ],
   "source": [
    "h.add('Boban', '222-8888')\n",
    "h.add('Ema', '099-prvi')\n",
    "h.add('Klara', '293-6753 prvi')\n",
    "h.add('Klara', '333-update')\n",
    "h.add('Ankica', '293-8625')\n",
    "h.add('Ana Marija', '852-655prvi1')\n",
    "h.add('Ankica', '632-4123')\n",
    "h.add('Mirko', '567-2188')\n",
    "h.add('Anita', '777-8888 update')\n",
    "h.add('Ema', '095-uup-drugi')\n",
    "h.add('Darko', '098-967-1688')\n",
    "h.add('Ema', 'nnn-yyy-update')\n",
    "h.add('Bruno Antulov Fantulin', 'Antulov ')\n",
    "h.print12()"
   ]
  },
  {
   "cell_type": "code",
   "execution_count": 48,
   "metadata": {},
   "outputs": [
    {
     "name": "stdout",
     "output_type": "stream",
     "text": [
      "----IMENIK TEST ----\n",
      "0  [['Boban', '222-8888', 0, 0, 0]]                   None\n",
      "1  None                                               None\n",
      "2  None                                               None\n",
      "3  None                                               None\n",
      "4  [['Darko', '098-967-1688', 4, 21, 0]]              None\n",
      "5  None                                               None\n",
      "6  None                                               None\n",
      "7  [['Anita', '777-8888 update', 7, 5, 0]]            None\n",
      "8  None                                               None\n",
      "9  None                                               None\n",
      "10 None                                               None\n",
      "11 None                                               None\n",
      "12 [['Ana Marija', '852-655prvi1', 12, 5, 0]]         None\n",
      "13 [['Ema', 'nnn-yyy-update', 13, 8, 0]]              None\n",
      "14 None                                               None\n",
      "15 [['Ankica', '632-4123', 15, 16, 0]]                None\n",
      "16 None                                               None\n",
      "17 [['Bruno Antulov Fantulin', 'Antulov ', 17, 13, 0]]None\n",
      "18 None                                               None\n",
      "19 None                                               None\n",
      "20 [['Ema2', 'drugi', 20, 17, 0]]                     None\n",
      "21 [['Mirko', '567-2188', 21, 19, 0]]                 None\n",
      "22 [['Klara', '333-update', 22, 19, 0]]               None\n"
     ]
    }
   ],
   "source": [
    "h.delete('Bruno')\n",
    "h.print12()"
   ]
  },
  {
   "cell_type": "code",
   "execution_count": 25,
   "metadata": {},
   "outputs": [],
   "source": [
    "class hash_antulov2(hash_antulov):\n",
    "    def load_check(self):        # this function could be more sofisticated\n",
    "        if self.load2 <= int(self.size/2) - 1:\n",
    "            return True\n",
    "        return False\n",
    "    \n",
    "    def add(self, new_key, new_value):\n",
    "        index, index2 = self.get_hash(new_key)\n",
    "#         new_key_value_pair = [new_key, new_value, index, index2,0]\n",
    "        if self.load_check() == True:\n",
    "            self.add_2(index, index2, new_key, new_value)\n",
    "            return True\n",
    "        self.add_12(index, index2, new_key, new_value)\n",
    "        return True\n",
    "            \n",
    "    def add_2(self,index, index2,new_key, new_value):\n",
    "        new_key_value_pair = [new_key, new_value, index, index2,0]\n",
    "        if self.bucket_arr2[index2] is not None:\n",
    "            for set_of_values in self.bucket_arr2[index2]:\n",
    "                if set_of_values[0] == new_key: \n",
    "                    set_of_values[1]= new_value\n",
    "                    return True\n",
    "         #   nothing was for updated, will be inserted                    \n",
    "        if self.bucket_arr2[index2] is None:\n",
    "            self.bucket_arr2[index2] = [new_key_value_pair]\n",
    "            self.load2 += 1\n",
    "            return True\n",
    "        else:\n",
    "            new_key_value_pair[4] = len(self.bucket_arr2[index2])\n",
    "            self.bucket_arr2[index2].append(new_key_value_pair) \n",
    "            self.load2 += 1\n",
    "            return True\n",
    "        return False\n",
    "        \n",
    "    def add_12(self,index, index2,new_key, new_value):\n",
    "        new_key_value_pair = [new_key, new_value, index, index2,0]\n",
    "        if self.bucket_arr[index] is not None: \n",
    "            if self.bucket_arr[index][0][0]== new_key:       # napravljaen uppdate return\n",
    "                self.bucket_arr[index][0][1] = new_value              \n",
    "                return True\n",
    "        if self.bucket_arr2[index2] is not None:\n",
    "            for set_of_values in self.bucket_arr2[index2]:\n",
    "                if set_of_values[0] == new_key: \n",
    "                    set_of_values[1]= new_value\n",
    "                    return True\n",
    "         #   nothing was for updated, must will be inserted  \n",
    "        if self.bucket_arr[index] is None:        \n",
    "            self.bucket_arr[index] = [new_key_value_pair]  # upisuje se u arr1\n",
    "            self.load1 += 1\n",
    "            return True                   \n",
    "        elif self.bucket_arr2[index2] is None:\n",
    "            self.bucket_arr2[index2] = [new_key_value_pair]\n",
    "            self.load2 += 1\n",
    "            return True\n",
    "        else:\n",
    "            new_key_value_pair[4] = len(self.bucket_arr2[index2])\n",
    "            self.bucket_arr2[index2].append(new_key_value_pair) \n",
    "            self.load2 += 1\n",
    "            return True\n",
    "        return False"
   ]
  },
  {
   "cell_type": "code",
   "execution_count": 26,
   "metadata": {},
   "outputs": [],
   "source": [
    "h2=hash_antulov2(11)"
   ]
  },
  {
   "cell_type": "code",
   "execution_count": 27,
   "metadata": {},
   "outputs": [
    {
     "name": "stdout",
     "output_type": "stream",
     "text": [
      " Ema2 index  10  5   load1 = 0 load2 = 1 \n",
      " Bruno index  6  0   load1 = 0 load2 = 2 \n",
      "Load ratio load1=0 / load2=2\n",
      "Load ratio =0.0 ukupni load=0.09090909090909091\n",
      "\n",
      "load1=0  load2=2 load1/size=0.00% load1/size=18.18%\n",
      "----IMENIK TEST ----\n",
      "0  None                                              [['Bruno', ' Antulov-Fantulin', 6, 0, 0]]\n",
      "1  None                                              None\n",
      "2  None                                              None\n",
      "3  None                                              None\n",
      "4  None                                              None\n",
      "5  None                                              [['Ema2', 'drugi', 10, 5, 0]]\n",
      "6  None                                              None\n",
      "7  None                                              None\n",
      "8  None                                              None\n",
      "9  None                                              None\n",
      "10 None                                              None\n"
     ]
    }
   ],
   "source": [
    "h2.add('Ema2', 'drugi')\n",
    "h2.pr_index('Ema2')\n",
    "h2.add('Bruno', ' Antulov-Fantulin')\n",
    "h2.pr_index('Bruno')\n",
    "h2.get_loads()\n",
    "h2.print12()"
   ]
  },
  {
   "cell_type": "code",
   "execution_count": 28,
   "metadata": {},
   "outputs": [
    {
     "name": "stdout",
     "output_type": "stream",
     "text": [
      " Boban index  7  10   load1 = 0 load2 = 2 \n"
     ]
    }
   ],
   "source": [
    "h2.pr_index('Boban')"
   ]
  },
  {
   "cell_type": "code",
   "execution_count": 29,
   "metadata": {},
   "outputs": [
    {
     "name": "stdout",
     "output_type": "stream",
     "text": [
      " Klara index  2  3   load1 = 0 load2 = 5 \n",
      "----IMENIK TEST ----\n",
      "0  None                                              [['Bruno', ' Antulov-Fantulin', 6, 0, 0]]\n",
      "1  [['Bruno Antulov Fantulin', 'Antulov ', 1, 9, 0]] None\n",
      "2  None                                              None\n",
      "3  None                                              [['Klara', '333-/188', 2, 3, 0]]\n",
      "4  None                                              None\n",
      "5  [['Darko', '098-967-1688', 5, 4, 0]]              [['Ema2', 'drugi', 10, 5, 0], ['Ema', 'nnn-yyy-update', 4, 5, 1]]\n",
      "6  None                                              None\n",
      "7  None                                              None\n",
      "8  None                                              None\n",
      "9  [['Anita', '777-8888 update', 9, 7, 0]]           None\n",
      "10 None                                              [['Boban', '222-8888', 7, 10, 0]]\n"
     ]
    }
   ],
   "source": [
    "h2.add('Boban', '222-8888')\n",
    "h2.add('Ema', '099-prvi')\n",
    "h2.add('Klara', '293-6753 prvi')\n",
    "h2.pr_index('Klara')\n",
    "h2.add('Klara', '333-/188')\n",
    "h2.add('Anita', '777-8888 update')\n",
    "h2.add('Ema', '095-uup-drugi')\n",
    "h2.add('Darko', '098-967-1688')\n",
    "h2.add('Ema', 'nnn-yyy-update')\n",
    "h2.add('Bruno Antulov Fantulin', 'Antulov ')\n",
    "h2.print12()"
   ]
  },
  {
   "cell_type": "code",
   "execution_count": 30,
   "metadata": {},
   "outputs": [
    {
     "name": "stdout",
     "output_type": "stream",
     "text": [
      "----IMENIK TEST ----\n",
      "0  None                                              []\n",
      "1  [['Bruno Antulov Fantulin', 'Antulov ', 1, 9, 0]] None\n",
      "2  None                                              None\n",
      "3  None                                              [['Klara', '333-/188', 2, 3, 0]]\n",
      "4  None                                              None\n",
      "5  [['Darko', '098-967-1688', 5, 4, 0]]              [['Ema2', 'drugi', 10, 5, 0], ['Ema', 'nnn-yyy-update', 4, 5, 1]]\n",
      "6  None                                              None\n",
      "7  None                                              None\n",
      "8  None                                              None\n",
      "9  [['Anita', '777-8888 update', 9, 7, 0]]           None\n",
      "10 None                                              [['Boban', '222-8888', 7, 10, 0]]\n"
     ]
    }
   ],
   "source": [
    "h2.delete('Bruno')\n",
    "h2.print12()"
   ]
  },
  {
   "cell_type": "code",
   "execution_count": 31,
   "metadata": {},
   "outputs": [
    {
     "name": "stdout",
     "output_type": "stream",
     "text": [
      "----IMENIK TEST ----\n",
      "0  None                                              []\n",
      "1  [['Bruno Antulov Fantulin', 'Antulov ', 1, 9, 0]] None\n",
      "2  None                                              None\n",
      "3  None                                              [['Klara', '333-/188', 2, 3, 0]]\n",
      "4  None                                              None\n",
      "5  [['Darko', '098-967-1688', 5, 4, 0]]              [['Ema2', 'drugi', 10, 5, 0], ['Ema', 'nnn-yyy-update', 4, 5, 1]]\n",
      "6  None                                              None\n",
      "7  None                                              None\n",
      "8  None                                              None\n",
      "9  [['Anita', '777-8888 update', 9, 7, 0]]           None\n",
      "10 None                                              []\n"
     ]
    }
   ],
   "source": [
    "h2.delete('Boban')\n",
    "h2.print12()"
   ]
  },
  {
   "cell_type": "code",
   "execution_count": 32,
   "metadata": {},
   "outputs": [
    {
     "data": {
      "text/plain": [
       "True"
      ]
     },
     "execution_count": 32,
     "metadata": {},
     "output_type": "execute_result"
    }
   ],
   "source": [
    "h2.add('Boban', '222-8888')"
   ]
  },
  {
   "cell_type": "code",
   "execution_count": 33,
   "metadata": {},
   "outputs": [
    {
     "name": "stdout",
     "output_type": "stream",
     "text": [
      " Boban index  7  10   load1 = 3 load2 = 4 \n",
      "Load ratio load1=3 / load2=4\n",
      "Load ratio =0.75 ukupni load=3.1818181818181817\n",
      "\n",
      "load1=3  load2=4 load1/size=27.27% load1/size=36.36%\n",
      "----IMENIK TEST ----\n",
      "0  None                                              []\n",
      "1  [['Bruno Antulov Fantulin', 'Antulov ', 1, 9, 0]] None\n",
      "2  None                                              None\n",
      "3  None                                              [['Klara', '333-/188', 2, 3, 0]]\n",
      "4  None                                              None\n",
      "5  [['Darko', '098-967-1688', 5, 4, 0]]              [['Ema2', 'drugi', 10, 5, 0], ['Ema', 'nnn-yyy-update', 4, 5, 1]]\n",
      "6  None                                              None\n",
      "7  None                                              None\n",
      "8  None                                              None\n",
      "9  [['Anita', '777-8888 update', 9, 7, 0]]           None\n",
      "10 None                                              [['Boban', '222-8888', 7, 10, 0]]\n"
     ]
    }
   ],
   "source": [
    "h2.pr_index('Boban')\n",
    "h2.get_loads()\n",
    "h2.print12()"
   ]
  },
  {
   "cell_type": "code",
   "execution_count": 34,
   "metadata": {
    "scrolled": true
   },
   "outputs": [
    {
     "name": "stdout",
     "output_type": "stream",
     "text": [
      " Bruno index  6  0   load1 = 3 load2 = 5 \n",
      "Load ratio load1=3 / load2=5\n",
      "Load ratio =0.6 ukupni load=3.227272727272727\n",
      "\n",
      "load1=3  load2=5 load1/size=27.27% load1/size=45.45%\n",
      "----IMENIK TEST ----\n",
      "0  None                                              [['Bruno', 'Ant-Fant', 6, 0, 0]]\n",
      "1  [['Bruno Antulov Fantulin', 'Antulov ', 1, 9, 0]] None\n",
      "2  None                                              None\n",
      "3  None                                              [['Klara', '333-/188', 2, 3, 0]]\n",
      "4  None                                              None\n",
      "5  [['Darko', '098-967-1688', 5, 4, 0]]              [['Ema2', 'drugi', 10, 5, 0], ['Ema', 'nnn-yyy-update', 4, 5, 1]]\n",
      "6  None                                              None\n",
      "7  None                                              None\n",
      "8  None                                              None\n",
      "9  [['Anita', '777-8888 update', 9, 7, 0]]           None\n",
      "10 None                                              [['Boban', '222-8888', 7, 10, 0]]\n"
     ]
    }
   ],
   "source": [
    "h2.add('Bruno', 'Ant-Fant')\n",
    "h2.pr_index('Bruno')\n",
    "h2.get_loads()\n",
    "h2.print12()"
   ]
  },
  {
   "cell_type": "code",
   "execution_count": null,
   "metadata": {},
   "outputs": [],
   "source": []
  }
 ],
 "metadata": {
  "kernelspec": {
   "display_name": "Python 3",
   "language": "python",
   "name": "python3"
  },
  "language_info": {
   "codemirror_mode": {
    "name": "ipython",
    "version": 3
   },
   "file_extension": ".py",
   "mimetype": "text/x-python",
   "name": "python",
   "nbconvert_exporter": "python",
   "pygments_lexer": "ipython3",
   "version": "3.7.3"
  }
 },
 "nbformat": 4,
 "nbformat_minor": 2
}
